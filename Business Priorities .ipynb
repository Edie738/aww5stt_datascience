{
    "cells": [
        {
            "cell_type": "code",
            "execution_count": 1,
            "metadata": {},
            "outputs": [],
            "source": "import requests\ntext = requests.get('https://www.gutenberg.org/files/1661/1661-0.txt').text\n\nwith open(\"sherlock-holmes.txt\", \"w\") as text_file:\n    text_file.write(text)"
        },
        {
            "cell_type": "code",
            "execution_count": 2,
            "metadata": {},
            "outputs": [],
            "source": "text = open('sherlock-holmes.txt', 'r').read()"
        },
        {
            "cell_type": "code",
            "execution_count": 3,
            "metadata": {},
            "outputs": [],
            "source": "import re\nstop_pattern = '\\.|\\?|\\!'\nsentences = re.split(stop_pattern, text)\nsentences = [re.sub(\"\\r|\\n\",\" \",s.lower()) for s in sentences]"
        },
        {
            "cell_type": "code",
            "execution_count": 4,
            "metadata": {},
            "outputs": [
                {
                    "name": "stdout",
                    "output_type": "stream",
                    "text": "<class 'pandas.core.frame.DataFrame'>\nRangeIndex: 7519 entries, 0 to 7518\nData columns (total 3 columns):\ntext            7519 non-null object\nhas_sherlock    7519 non-null bool\nhas_watson      7519 non-null bool\ndtypes: bool(2), object(1)\nmemory usage: 73.5+ KB\n"
                }
            ],
            "source": "import pandas as pd\nhas_sherlock =  [True if re.search(\"sherlock|holmes\",s) else False for s in sentences]\nhas_watson = [True if re.search(\"john|watson\",s) else False for s in sentences]\ndf = pd.DataFrame({'text':sentences,'has_sherlock':has_sherlock,'has_watson':has_watson})\ndf.info()"
        },
        {
            "cell_type": "code",
            "execution_count": 5,
            "metadata": {},
            "outputs": [
                {
                    "data": {
                        "text/html": "<div>\n<style scoped>\n    .dataframe tbody tr th:only-of-type {\n        vertical-align: middle;\n    }\n\n    .dataframe tbody tr th {\n        vertical-align: top;\n    }\n\n    .dataframe thead th {\n        text-align: right;\n    }\n</style>\n<table border=\"1\" class=\"dataframe\">\n  <thead>\n    <tr style=\"text-align: right;\">\n      <th></th>\n      <th>text</th>\n      <th>has_sherlock</th>\n      <th>has_watson</th>\n    </tr>\n  </thead>\n  <tbody>\n    <tr>\n      <th>0</th>\n      <td>project gutenberg's the adventures of sherloc...</td>\n      <td>True</td>\n      <td>False</td>\n    </tr>\n    <tr>\n      <th>1</th>\n      <td>you may copy it, give it away or re-use it u...</td>\n      <td>False</td>\n      <td>False</td>\n    </tr>\n    <tr>\n      <th>2</th>\n      <td>gutenberg</td>\n      <td>False</td>\n      <td>False</td>\n    </tr>\n    <tr>\n      <th>3</th>\n      <td>net   title: the adventures of sherlock holmes...</td>\n      <td>True</td>\n      <td>False</td>\n    </tr>\n    <tr>\n      <th>4</th>\n      <td>a scandal in bohemia    ii</td>\n      <td>False</td>\n      <td>False</td>\n    </tr>\n  </tbody>\n</table>\n</div>",
                        "text/plain": "                                                text  has_sherlock  has_watson\n0   project gutenberg's the adventures of sherloc...          True       False\n1    you may copy it, give it away or re-use it u...         False       False\n2                                          gutenberg         False       False\n3  net   title: the adventures of sherlock holmes...          True       False\n4                         a scandal in bohemia    ii         False       False"
                    },
                    "execution_count": 5,
                    "metadata": {},
                    "output_type": "execute_result"
                }
            ],
            "source": "df.head()"
        },
        {
            "cell_type": "code",
            "execution_count": 7,
            "metadata": {},
            "outputs": [],
            "source": "import numpy as np"
        },
        {
            "cell_type": "code",
            "execution_count": 8,
            "metadata": {},
            "outputs": [],
            "source": "from sklearn.feature_extraction.text import CountVectorizer\nfrom sklearn.feature_extraction.text import TfidfTransformer\nfrom sklearn.pipeline import Pipeline\n\n# extract the data to be used in the model from the df\nlabels = np.zeros(df.shape[0])\nlabels[(df['has_sherlock'] == True)] = 1\nlabels[(df['has_watson'] == True)] = 2\ndf['labels'] = labels\ndf = df[df['labels']!=0]\nX = df['text'].values\ny = df['labels'].values"
        },
        {
            "cell_type": "code",
            "execution_count": 9,
            "metadata": {},
            "outputs": [
                {
                    "name": "stderr",
                    "output_type": "stream",
                    "text": "/opt/conda/envs/Python36/lib/python3.6/site-packages/sklearn/linear_model/stochastic_gradient.py:183: FutureWarning: max_iter and tol parameters have been added in SGDClassifier in 0.19. If max_iter is set but tol is left unset, the default value for tol in 0.19 and 0.20 will be None (which is equivalent to -infinity, so it has no effect) but will change in 0.21 to 1e-3. Specify tol to silence this warning.\n  FutureWarning)\n"
                },
                {
                    "data": {
                        "text/plain": "Pipeline(memory=None,\n     steps=[('vect', CountVectorizer(analyzer='word', binary=False, decode_error='strict',\n        dtype=<class 'numpy.int64'>, encoding='utf-8', input='content',\n        lowercase=True, max_df=1.0, max_features=None, min_df=1,\n        ngram_range=(1, 1), preprocessor=None, stop_words=None,\n        strip...dom_state=42, shuffle=True, tol=None,\n       validation_fraction=0.1, verbose=0, warm_start=False))])"
                    },
                    "execution_count": 9,
                    "metadata": {},
                    "output_type": "execute_result"
                }
            ],
            "source": "from sklearn.linear_model import SGDClassifier\nfrom sklearn.model_selection import train_test_split\n\n## carry out the train test split\nX_train, X_test, y_train, y_test = train_test_split(X, y, test_size=0.33, random_state=42)\n\nfrom sklearn.linear_model import SGDClassifier\ntext_clf = Pipeline([\n    ('vect', CountVectorizer()),\n    ('tfidf', TfidfTransformer()),\n    ('clf', SGDClassifier(loss='hinge', penalty='l2',\n                        alpha=1e-3, random_state=42,\n                        max_iter=5, tol=None))\n])\n\n## train a model\ntext_clf.fit(X_train, y_train)"
        },
        {
            "cell_type": "code",
            "execution_count": null,
            "metadata": {},
            "outputs": [],
            "source": "from sklearn import metrics\n\n## evaluate the model performance\npredicted = text_clf.predict(X_test)\n\nprint(metrics.classification_report(y_test, predicted,\n      target_names=['sherlock','watson']))"
        }
    ],
    "metadata": {
        "kernelspec": {
            "display_name": "Python 3.6",
            "language": "python",
            "name": "python3"
        },
        "language_info": {
            "codemirror_mode": {
                "name": "ipython",
                "version": 3
            },
            "file_extension": ".py",
            "mimetype": "text/x-python",
            "name": "python",
            "nbconvert_exporter": "python",
            "pygments_lexer": "ipython3",
            "version": "3.6.9"
        }
    },
    "nbformat": 4,
    "nbformat_minor": 1
}